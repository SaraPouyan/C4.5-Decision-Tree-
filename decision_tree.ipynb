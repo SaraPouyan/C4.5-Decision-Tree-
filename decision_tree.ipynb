{
  "cells": [
    {
      "cell_type": "markdown",
      "metadata": {
        "id": "h06JzEXMr3zH"
      },
      "source": [
        "# <font color='#FFE15D'>Decision Tree: C4.5</font>"
      ]
    },
    {
      "cell_type": "markdown",
      "metadata": {
        "id": "XHVUugzir_ZJ"
      },
      "source": [
        "## **🟪 Imports**"
      ]
    },
    {
      "cell_type": "code",
      "execution_count": 1,
      "metadata": {
        "id": "4yRCObRW9ypw"
      },
      "outputs": [],
      "source": [
        "import pandas as pd\n",
        "import numpy as np\n",
        "\n",
        "from scipy.stats import mode\n",
        "from graphviz import Digraph\n",
        "from sklearn.model_selection import train_test_split\n",
        "from sklearn.metrics import accuracy_score\n",
        "from sklearn.preprocessing import KBinsDiscretizer\n",
        "import copy\n",
        "from collections import Counter"
      ]
    },
    {
      "cell_type": "markdown",
      "metadata": {
        "id": "nNfk4ekisP6w"
      },
      "source": [
        "### Model"
      ]
    },
    {
      "cell_type": "markdown",
      "metadata": {
        "id": "B2u_FAUCsY8A"
      },
      "source": [
        "#### 🟨 Entropy"
      ]
    },
    {
      "cell_type": "code",
      "execution_count": 2,
      "metadata": {
        "id": "bhwLGWsQ97wO"
      },
      "outputs": [],
      "source": [
        "def entropy(labels):\n",
        "  p = labels.value_counts() / len(labels)\n",
        "  return -sum(p * np.log2(p + 1e-10))"
      ]
    },
    {
      "cell_type": "markdown",
      "metadata": {
        "id": "F6ZdsVMhse15"
      },
      "source": [
        "#### 🟨 Information Gain"
      ]
    },
    {
      "cell_type": "code",
      "execution_count": 3,
      "metadata": {
        "id": "g-aEfP_098RT"
      },
      "outputs": [],
      "source": [
        "def information_gain(data, feature, target, threshold=None):\n",
        "    # entropy of parent\n",
        "    entropy_parent = entropy(data[target])\n",
        "\n",
        "    entropy_child = 0\n",
        "    # numerical feature\n",
        "    if threshold is not None:\n",
        "\n",
        "        left_subset = data[data[feature] <= threshold]\n",
        "        right_subset = data[data[feature] > threshold]\n",
        "        subsets = [left_subset, right_subset]\n",
        "\n",
        "        for subset in subsets:\n",
        "          wi = len(subset) / len(data)\n",
        "          entropy_child += wi * entropy(subset[target])\n",
        "        return entropy_parent - entropy_child\n",
        "\n",
        "    # categorical feature\n",
        "    else:\n",
        "        for value in data[feature].unique():\n",
        "            if pd.isnull(value):\n",
        "               subset = data[data[feature].isnull()]\n",
        "            else:\n",
        "              subset = data[data[feature] == value]\n",
        "\n",
        "            if len(subset) != 0:\n",
        "              wi = len(subset) / len(data)\n",
        "              entropy_child += wi * entropy(subset[target])\n",
        "            else:\n",
        "              entropy_child = 0\n",
        "        return entropy_parent - entropy_child"
      ]
    },
    {
      "cell_type": "markdown",
      "metadata": {
        "id": "kCdYKrUyskOF"
      },
      "source": [
        "#### 🟨 Gain Ratio"
      ]
    },
    {
      "cell_type": "code",
      "execution_count": 4,
      "metadata": {
        "id": "DtMSpare-Be0"
      },
      "outputs": [],
      "source": [
        "def calculate_gain_ratio(data, feature, target, threshold=None):\n",
        "    # entropy of parent\n",
        "    entropy_parent = entropy(data[target])\n",
        "\n",
        "    entropy_child = 0\n",
        "    # numerical feature\n",
        "    if threshold is not None:\n",
        "\n",
        "        left_subset = data[data[feature] <= threshold]\n",
        "        right_subset = data[data[feature] > threshold]\n",
        "\n",
        "        subsets = [left_subset, right_subset]\n",
        "\n",
        "        weights = []\n",
        "        for subset in subsets:\n",
        "          wi = len(subset) / len(data)\n",
        "          weights.append(wi)\n",
        "          entropy_child += wi * entropy(subset[target])\n",
        "        information_gain = entropy_parent - entropy_child\n",
        "\n",
        "        split_info = 0\n",
        "        for weight in weights:\n",
        "            if weight != 0:\n",
        "              split_info += -(weight * np.log2(weight))\n",
        "\n",
        "        return information_gain / split_info if split_info != 0 else 0\n",
        "\n",
        "    # categorical feature\n",
        "    else:\n",
        "        weights = []\n",
        "        for value in data[feature].unique():\n",
        "\n",
        "            if pd.isnull(value):\n",
        "               subset = data[data[feature].isnull()]\n",
        "            else:\n",
        "              subset = data[data[feature] == value]\n",
        "\n",
        "            wi = len(subset) / len(data)\n",
        "            weights.append(wi)\n",
        "            entropy_child += wi * entropy(subset[target])\n",
        "\n",
        "        information_gain = entropy_parent - entropy_child\n",
        "\n",
        "        split_info = 0\n",
        "        for weight in weights:\n",
        "            if weight != 0:\n",
        "               split_info += -(weight * np.log2(weight))\n",
        "\n",
        "        return information_gain / split_info if split_info != 0 else 0"
      ]
    },
    {
      "cell_type": "markdown",
      "metadata": {
        "id": "_DQ-of8FstJa"
      },
      "source": [
        "#### 🟨 Best Threshold"
      ]
    },
    {
      "cell_type": "code",
      "execution_count": 5,
      "metadata": {
        "id": "myOLjKEB-Ghy"
      },
      "outputs": [],
      "source": [
        "def find_best_threshold(data, feature, target):\n",
        "\n",
        "    best_threshold = None\n",
        "    best_gain_ratio = -np.inf\n",
        "\n",
        "    thresholds = data[feature].unique()\n",
        "    for threshold in thresholds:\n",
        "        gain_ratio = calculate_gain_ratio(data, feature, target, threshold)\n",
        "\n",
        "        if gain_ratio > best_gain_ratio:\n",
        "              best_gain_ratio = gain_ratio\n",
        "              best_threshold = threshold\n",
        "\n",
        "    return best_threshold"
      ]
    },
    {
      "cell_type": "markdown",
      "metadata": {
        "id": "qwt9GQKEs_Gl"
      },
      "source": [
        "#### 🟩 Node"
      ]
    },
    {
      "cell_type": "code",
      "execution_count": 6,
      "metadata": {
        "id": "GY4DIoWv-KbR"
      },
      "outputs": [],
      "source": [
        "class Node:\n",
        "\n",
        "    def __init__(self, feature=None, label=None, count=0):\n",
        "        self.feature = feature\n",
        "        self.label = label\n",
        "        self.count = count\n",
        "        self.children = {}\n",
        "\n",
        "    def to_xml(self, indent=\"  \"):\n",
        "        if self.feature is not None:\n",
        "            children_xml = \"\"\n",
        "            for value, child in self.children.items():\n",
        "                children_xml += f'\\n{indent}  <DecisionBranch value=\"{value}\">'\n",
        "                children_xml += f'\\n{child.to_xml(indent + \"    \")}'\n",
        "                children_xml += f'\\n{indent}  </DecisionBranch>'\n",
        "            return f'{indent}<DecisionNode feature=\"{self.feature}\">{children_xml}\\n{indent}</DecisionNode>'\n",
        "        else:\n",
        "            return f'{indent}<LeafNode label=\"{self.label}\" count=\"{self.count}\" />'\n",
        "\n",
        "\n",
        "\n",
        "    def colorize(self, xml_str):\n",
        "        # Define ANSI escape codes\n",
        "        feature_color = '\\033[94m'  # Blue\n",
        "        label_color = '\\033[92m'    # Green\n",
        "        count_color = '\\033[93m'    # Yellow\n",
        "        reset_color = '\\033[0m'     # Reset to default color\n",
        "\n",
        "        # Replace tags with colored tags\n",
        "        xml_str = xml_str.replace(f'<DecisionNode feature=', f'{feature_color}<DecisionNode feature={reset_color}')\n",
        "        xml_str = xml_str.replace('<LeafNode label=', f'{label_color}<LeafNode label={reset_color}')\n",
        "        xml_str = xml_str.replace(' count=', f' {count_color}count={reset_color}')\n",
        "\n",
        "        return xml_str\n",
        "\n",
        "    def __repr__(self):\n",
        "        root_xml = self.to_xml(\"\")\n",
        "        colored_xml = self.colorize(root_xml)\n",
        "        return f'<DecisionTree>\\n{colored_xml}\\n</DecisionTree>'"
      ]
    },
    {
      "cell_type": "markdown",
      "metadata": {
        "id": "H86I2hSDtZan"
      },
      "source": [
        "# <font color='#FFE15D'> 🟪 DecisionTreeClassification </font>"
      ]
    },
    {
      "cell_type": "markdown",
      "metadata": {
        "id": "QBPwtQpPtC_3"
      },
      "source": [
        "### 🟩 Pre-Prunning & Post-Pruning"
      ]
    },
    {
      "cell_type": "code",
      "execution_count": 7,
      "metadata": {
        "id": "S7_L82D0-OLC"
      },
      "outputs": [],
      "source": [
        "class DecisionTreeClassification:\n",
        "\n",
        "  def __init__(self, max_depth=None, min_samples_leaf=1, min_samples_split=2, discrete=None):\n",
        "    self.max_depth = max_depth\n",
        "    self.min_samples_leaf = min_samples_leaf\n",
        "    self.min_samples_split = min_samples_split\n",
        "    self.discrete = discrete\n",
        "\n",
        "  def fit(self, data, target):\n",
        "    self.data = data\n",
        "    self.target = target\n",
        "    return self._make_tree(data, target, depth=0)\n",
        "\n",
        "  def _make_tree(self, data, target, depth):\n",
        "      # leaf node?\n",
        "      if len(data[target].unique()) == 1 or len(data[target]) <= self.min_samples_leaf:\n",
        "        most_common_label = Counter(data[target]).most_common(1)[0]\n",
        "        return Node(label=most_common_label[0], count=most_common_label[1])\n",
        "\n",
        "      if self.max_depth != None:\n",
        "        if depth >= self.max_depth:\n",
        "          most_common_label = Counter(data[target]).most_common(1)[0]\n",
        "          return Node(label=most_common_label[0], count=most_common_label[1])\n",
        "\n",
        "      features = data.drop(target, axis=1).columns\n",
        "      if len(features) == 0:\n",
        "        most_common_label = Counter(data[target]).most_common(1)[0]\n",
        "        return Node(label=most_common_label[0], count=most_common_label[1])\n",
        "\n",
        "      if len(data) == 0:\n",
        "        return Node(label='Fail')\n",
        "\n",
        "      # calculate gain ratio and find best threshold\n",
        "      gains, thresholds = [], []\n",
        "      for feature in features:\n",
        "        if data[feature].dtype == 'object' or data[feature].dtype == 'bool':\n",
        "          gains.append(calculate_gain_ratio(data, feature, target))\n",
        "          thresholds.append(None)\n",
        "\n",
        "        else:\n",
        "          best_t = find_best_threshold(data, feature, target)\n",
        "          gains.append(calculate_gain_ratio(data, feature, target, best_t))\n",
        "          thresholds.append(best_t)\n",
        "\n",
        "      # greedy search to find best feature\n",
        "      max_gain_ratio_idx = np.argmax(gains)\n",
        "      best_feature = features[max_gain_ratio_idx]\n",
        "      best_threshold = thresholds[max_gain_ratio_idx]\n",
        "\n",
        "      # make a node\n",
        "      if len(data[best_feature]) >= self.min_samples_split:\n",
        "        node = Node(feature=best_feature)\n",
        "      else:\n",
        "        most_common_label = Counter(data[target]).most_common(1)[0]\n",
        "        return Node(label=most_common_label[0], count=most_common_label[1])\n",
        "\n",
        "      # split categorical data\n",
        "      if data[best_feature].dtype == 'object' or data[best_feature].dtype == 'bool':\n",
        "          if len(data[best_feature]) >= self.min_samples_split:\n",
        "              for value in data[best_feature].unique():\n",
        "                      if pd.isnull(value):\n",
        "                          subset = data[data[best_feature].isnull()].drop(best_feature, axis=1)\n",
        "                      else:\n",
        "                          subset = data[data[best_feature] == value].drop(best_feature, axis=1)\n",
        "\n",
        "                      if self.discrete != None:\n",
        "                          node.children[value] = self._make_tree(subset, target, depth + 1)\n",
        "                      else:\n",
        "                          node.children[value] = self._make_tree(subset, target, depth + 1)\n",
        "\n",
        "      # split numerical data using binary threshold\n",
        "      else:\n",
        "          if len(data[best_feature]) >= self.min_samples_split:\n",
        "              left_subset = data[data[best_feature] <= best_threshold]\n",
        "              right_subset = data[data[best_feature] > best_threshold]\n",
        "\n",
        "              # find edge of bin of best threshold\n",
        "              if self.discrete != None:\n",
        "                    t = self.discrete.bin_edges_[self.discrete.feature_names_in_ == best_feature][0][int(best_threshold)+1]\n",
        "\n",
        "                    node.children[f'<= {t}'] = self._make_tree(left_subset, target, depth + 1)\n",
        "                    node.children[f'> {t}'] = self._make_tree(right_subset, target, depth + 1)\n",
        "\n",
        "              else:\n",
        "                    node.children[f'<= {best_threshold}'] = self._make_tree(left_subset, target, depth + 1)\n",
        "                    node.children[f'> {best_threshold}'] = self._make_tree(right_subset, target, depth + 1)\n",
        "\n",
        "      return node\n",
        "\n",
        "  # prediction\n",
        "  def predict(self, tree, sample):\n",
        "    if tree.feature is None:\n",
        "        return tree.label\n",
        "\n",
        "    feature_value = sample[tree.feature]\n",
        "\n",
        "    if feature_value in tree.children:\n",
        "        return self.predict(tree.children[feature_value], sample)\n",
        "    else:\n",
        "        # handling numeric conditions\n",
        "        for condition in tree.children:\n",
        "            operator, threshold = condition.split(' ')\n",
        "            threshold = float(threshold)\n",
        "\n",
        "            if operator == '<=' and feature_value <= threshold:\n",
        "                return self.predict(tree.children[condition], sample)\n",
        "            elif operator == '>' and feature_value > threshold:\n",
        "                return self.predict(tree.children[condition], sample)\n",
        "\n",
        "  # calculate accuracy\n",
        "  def accuracy(self, predictions, labels):\n",
        "    return sum(pred == label for pred, label in zip(predictions, labels)) / len(labels)\n",
        "\n",
        "  # applay predictions on the validation set and get accuracy\n",
        "  def validate_tree(self, tree, validation_data):\n",
        "    predictions = [self.predict(tree, sample) for _, sample in validation_data.iterrows()]\n",
        "    labels = validation_data[target].tolist()\n",
        "    return self.accuracy(predictions, labels)\n",
        "\n",
        "  # find sub-tree of last internal node\n",
        "  def find_last_sub_tree(self, node, parent=None):\n",
        "    if node is None:\n",
        "        return None\n",
        "\n",
        "    if node.feature is not None:\n",
        "        child_keys = list(node.children.keys())\n",
        "        child_keys.reverse()\n",
        "        for key in child_keys:\n",
        "            last_internal = self.find_last_sub_tree(node.children[key], node)\n",
        "            if last_internal is not None:\n",
        "                return last_internal\n",
        "\n",
        "    return node if node.feature is not None else None\n",
        "\n",
        "\n",
        "  # find sub-tree and replace the matching sub-tree with a leaf node\n",
        "  def temperory_prune_tree(self, root, sub_tree, new_label, new_count):\n",
        "    if root is None:\n",
        "        return\n",
        "\n",
        "    # replace the matching sub-tree with a leaf node\n",
        "    if repr(root) == repr(sub_tree):\n",
        "        root.feature = None\n",
        "        root.label = new_label\n",
        "        root.count = new_count\n",
        "        root.children = {}\n",
        "\n",
        "    for child_key, child_node in root.children.items():\n",
        "        self.temperory_prune_tree(child_node, sub_tree, new_label, new_count)\n",
        "        g = self.visualize_tree(root)\n",
        "        g.render(f'decision_car_{child_key}', format='png', view=True)\n",
        "        self.visualize_tree(root)\n",
        "\n",
        "    return root\n",
        "\n",
        "  # get most common class\n",
        "  def get_max_label_and_count(self, leaf_list):\n",
        "    if not leaf_list:\n",
        "        return None, 0\n",
        "\n",
        "    label_counts = {}\n",
        "\n",
        "    for leaf in leaf_list:\n",
        "        if leaf.label is not None:\n",
        "            if leaf.label in label_counts:\n",
        "                label_counts[leaf.label] += leaf.count\n",
        "            else:\n",
        "                label_counts[leaf.label] = leaf.count\n",
        "\n",
        "    if not label_counts:\n",
        "        return None, 0\n",
        "\n",
        "    max_label = max(label_counts, key=label_counts.get)\n",
        "    max_count = label_counts[max_label]\n",
        "\n",
        "    return max_label, max_count\n",
        "\n",
        "  # reduced error prunning\n",
        "  def post_prune(self, node, validation_data, validation_target):\n",
        "         # leaf node, nothing to prune\n",
        "         if node.feature is None:\n",
        "           return node\n",
        "\n",
        "         # recursively prune decision nodes\n",
        "         for child_node in reversed(list(node.children.keys())):\n",
        "           node.children[child_node] = self.post_prune(node.children[child_node], validation_data, validation_target)\n",
        "\n",
        "         original_tree = copy.deepcopy(node)\n",
        "\n",
        "         # accuracy before prunning\n",
        "         original_accuracy = self.validate_tree(original_tree, validation_data)\n",
        "\n",
        "         # sub-tree of last internal node\n",
        "         sub_tree = self.find_last_sub_tree(node)\n",
        "\n",
        "         # get most common class\n",
        "         label_list = list(sub_tree.children.values())\n",
        "         new_label, new_count = self.get_max_label_and_count(label_list)\n",
        "\n",
        "         # temporarily remove sub-tree for pruning\n",
        "         prune_tree = self.temperory_prune_tree(node, sub_tree, new_label, new_count)\n",
        "\n",
        "         # accuracy after prunning\n",
        "         pruned_accuracy = self.validate_tree(prune_tree, validation_data)\n",
        "\n",
        "         # restore the pruned node, if pruning not improve accuracy\n",
        "         if pruned_accuracy < original_accuracy:\n",
        "            node = original_tree\n",
        "\n",
        "         return node\n",
        "\n",
        "  # plot tree\n",
        "  def visualize_tree(self, tree, parent=None, node_id=None):\n",
        "    if node_id is None:\n",
        "        node_id = '0'\n",
        "        g = Digraph(node_attr={'shape': 'record', 'height':'.1'})\n",
        "        g.node(node_id, label=tree.feature, style='filled', fillcolor='burlywood')\n",
        "\n",
        "    else:\n",
        "        g = parent\n",
        "        g.node(node_id, label=tree.feature, style='filled', fillcolor='#a0522d')\n",
        "\n",
        "    if len(tree.children) == 0:\n",
        "        g.node(node_id, label=tree.label, style='filled', fillcolor='forestgreen')\n",
        "        return g\n",
        "\n",
        "    for i, (value, child) in enumerate(tree.children.items()):\n",
        "        child_id = f'{node_id}_{i+1}'\n",
        "        self.visualize_tree(child, g, child_id)\n",
        "        g.edge(node_id, child_id, label=str(value))\n",
        "\n",
        "    return g"
      ]
    },
    {
      "cell_type": "markdown",
      "metadata": {
        "id": "Rp6vB7G1-x1S"
      },
      "source": [
        "### 🟧 Data"
      ]
    },
    {
      "cell_type": "code",
      "execution_count": 19,
      "metadata": {
        "colab": {
          "base_uri": "https://localhost:8080/"
        },
        "id": "62sVPxLt-2qI",
        "outputId": "634a2d74-66b2-4ddc-e9b5-2edeef98d908"
      },
      "outputs": [
        {
          "output_type": "execute_result",
          "data": {
            "text/plain": [
              "((112, 5), (38, 5))"
            ]
          },
          "metadata": {},
          "execution_count": 19
        }
      ],
      "source": [
        "data = pd.read_csv('iris.csv')\n",
        "target = 'class'\n",
        "\n",
        "data_train, data_test = train_test_split(data, test_size=0.25, stratify=data[target], random_state=5)\n",
        "data_train.shape, data_test.shape"
      ]
    },
    {
      "cell_type": "code",
      "execution_count": 20,
      "metadata": {
        "colab": {
          "base_uri": "https://localhost:8080/"
        },
        "id": "QmE5LY9A-3bE",
        "outputId": "d2564daf-652b-4ea1-a8ff-f79286a4a6fa"
      },
      "outputs": [
        {
          "output_type": "execute_result",
          "data": {
            "text/plain": [
              "((84, 5), (28, 5))"
            ]
          },
          "metadata": {},
          "execution_count": 20
        }
      ],
      "source": [
        "data_train, data_valid = train_test_split(data_train, test_size=0.25, stratify=data_train[target], random_state=5)\n",
        "data_train.shape, data_valid.shape"
      ]
    },
    {
      "cell_type": "markdown",
      "metadata": {
        "id": "pYqyCXMcty2y"
      },
      "source": [
        "### 🟩 Tree"
      ]
    },
    {
      "cell_type": "code",
      "execution_count": 21,
      "metadata": {
        "colab": {
          "base_uri": "https://localhost:8080/"
        },
        "id": "T-S0c3qQS7ow",
        "outputId": "fac00fd0-8c40-45e3-dfbd-382076198ff4"
      },
      "outputs": [
        {
          "output_type": "execute_result",
          "data": {
            "text/plain": [
              "<DecisionTree>\n",
              "\u001b[94m<DecisionNode feature=\u001b[0m\"petal-length\">\n",
              "  <DecisionBranch value=\"<= 1.9\">\n",
              "    \u001b[92m<LeafNode label=\u001b[0m\"Iris-setosa\" \u001b[93mcount=\u001b[0m\"28\" />\n",
              "  </DecisionBranch>\n",
              "  <DecisionBranch value=\"> 1.9\">\n",
              "    \u001b[94m<DecisionNode feature=\u001b[0m\"petal-width\">\n",
              "      <DecisionBranch value=\"<= 1.6\">\n",
              "        \u001b[94m<DecisionNode feature=\u001b[0m\"petal-length\">\n",
              "          <DecisionBranch value=\"<= 4.9\">\n",
              "            \u001b[92m<LeafNode label=\u001b[0m\"Iris-versicolor\" \u001b[93mcount=\u001b[0m\"26\" />\n",
              "          </DecisionBranch>\n",
              "          <DecisionBranch value=\"> 4.9\">\n",
              "            \u001b[94m<DecisionNode feature=\u001b[0m\"sepal-width\">\n",
              "              <DecisionBranch value=\"<= 2.2\">\n",
              "                \u001b[92m<LeafNode label=\u001b[0m\"Iris-virginica\" \u001b[93mcount=\u001b[0m\"1\" />\n",
              "              </DecisionBranch>\n",
              "              <DecisionBranch value=\"> 2.2\">\n",
              "                \u001b[92m<LeafNode label=\u001b[0m\"Iris-versicolor\" \u001b[93mcount=\u001b[0m\"1\" />\n",
              "              </DecisionBranch>\n",
              "            </DecisionNode>\n",
              "          </DecisionBranch>\n",
              "        </DecisionNode>\n",
              "      </DecisionBranch>\n",
              "      <DecisionBranch value=\"> 1.6\">\n",
              "        \u001b[94m<DecisionNode feature=\u001b[0m\"petal-length\">\n",
              "          <DecisionBranch value=\"<= 4.8\">\n",
              "            \u001b[94m<DecisionNode feature=\u001b[0m\"sepal-length\">\n",
              "              <DecisionBranch value=\"<= 5.9\">\n",
              "                \u001b[92m<LeafNode label=\u001b[0m\"Iris-versicolor\" \u001b[93mcount=\u001b[0m\"1\" />\n",
              "              </DecisionBranch>\n",
              "              <DecisionBranch value=\"> 5.9\">\n",
              "                \u001b[92m<LeafNode label=\u001b[0m\"Iris-virginica\" \u001b[93mcount=\u001b[0m\"2\" />\n",
              "              </DecisionBranch>\n",
              "            </DecisionNode>\n",
              "          </DecisionBranch>\n",
              "          <DecisionBranch value=\"> 4.8\">\n",
              "            \u001b[92m<LeafNode label=\u001b[0m\"Iris-virginica\" \u001b[93mcount=\u001b[0m\"25\" />\n",
              "          </DecisionBranch>\n",
              "        </DecisionNode>\n",
              "      </DecisionBranch>\n",
              "    </DecisionNode>\n",
              "  </DecisionBranch>\n",
              "</DecisionNode>\n",
              "</DecisionTree>"
            ]
          },
          "metadata": {},
          "execution_count": 21
        }
      ],
      "source": [
        "clf = DecisionTreeClassification(discrete=None)\n",
        "tree_iris = clf.fit(data_train, target)\n",
        "tree_iris"
      ]
    },
    {
      "cell_type": "markdown",
      "metadata": {
        "id": "iRYDMlNHxR3d"
      },
      "source": [
        "### 🟥 Evaluation"
      ]
    },
    {
      "cell_type": "code",
      "execution_count": 22,
      "metadata": {
        "colab": {
          "base_uri": "https://localhost:8080/"
        },
        "id": "MAPXRmuXxREN",
        "outputId": "ff26c021-accc-433e-f06d-60ff6ab69dbf"
      },
      "outputs": [
        {
          "output_type": "stream",
          "name": "stdout",
          "text": [
            "Validation Accuracy: 0.9642857142857143\n",
            "Test Accuracy: 0.8947368421052632\n"
          ]
        }
      ],
      "source": [
        "valid_accuracy = clf.validate_tree(tree_iris, data_valid)\n",
        "test_accuracy = clf.validate_tree(tree_iris, data_test)\n",
        "\n",
        "print(f'Validation Accuracy: {valid_accuracy}')\n",
        "print(f'Test Accuracy: {test_accuracy}')"
      ]
    },
    {
      "cell_type": "markdown",
      "metadata": {
        "id": "KL1fnUFY_JhD"
      },
      "source": [
        "### 🟦 Visualization"
      ]
    },
    {
      "cell_type": "code",
      "execution_count": 23,
      "metadata": {
        "colab": {
          "base_uri": "https://localhost:8080/",
          "height": 463
        },
        "id": "NnjHDuKn_Cxp",
        "outputId": "01809a5f-b5ca-4137-8cbf-3c414e42585c"
      },
      "outputs": [
        {
          "output_type": "execute_result",
          "data": {
            "image/svg+xml": "<?xml version=\"1.0\" encoding=\"UTF-8\" standalone=\"no\"?>\n<!DOCTYPE svg PUBLIC \"-//W3C//DTD SVG 1.1//EN\"\n \"http://www.w3.org/Graphics/SVG/1.1/DTD/svg11.dtd\">\n<!-- Generated by graphviz version 2.43.0 (0)\n -->\n<!-- Title: %3 Pages: 1 -->\n<svg width=\"422pt\" height=\"332pt\"\n viewBox=\"0.00 0.00 422.00 332.00\" xmlns=\"http://www.w3.org/2000/svg\" xmlns:xlink=\"http://www.w3.org/1999/xlink\">\n<g id=\"graph0\" class=\"graph\" transform=\"scale(1 1) rotate(0) translate(4 328)\">\n<title>%3</title>\n<polygon fill=\"white\" stroke=\"transparent\" points=\"-4,4 -4,-328 418,-328 418,4 -4,4\"/>\n<!-- 0 -->\n<g id=\"node1\" class=\"node\">\n<title>0</title>\n<polygon fill=\"burlywood\" stroke=\"black\" points=\"109,-300.5 109,-323.5 190,-323.5 190,-300.5 109,-300.5\"/>\n<text text-anchor=\"middle\" x=\"149.5\" y=\"-308.3\" font-family=\"Times,serif\" font-size=\"14.00\">petal&#45;length</text>\n</g>\n<!-- 0_1 -->\n<g id=\"node2\" class=\"node\">\n<title>0_1</title>\n<polygon fill=\"forestgreen\" stroke=\"black\" points=\"83.5,-225.5 83.5,-248.5 155.5,-248.5 155.5,-225.5 83.5,-225.5\"/>\n<text text-anchor=\"middle\" x=\"119.5\" y=\"-233.3\" font-family=\"Times,serif\" font-size=\"14.00\">Iris&#45;setosa</text>\n</g>\n<!-- 0&#45;&gt;0_1 -->\n<g id=\"edge1\" class=\"edge\">\n<title>0&#45;&gt;0_1</title>\n<path fill=\"none\" stroke=\"black\" d=\"M144.55,-300.32C142.06,-294.86 139.05,-288.11 136.5,-282 133.25,-274.21 129.86,-265.55 126.97,-257.99\"/>\n<polygon fill=\"black\" stroke=\"black\" points=\"130.21,-256.67 123.4,-248.55 123.66,-259.14 130.21,-256.67\"/>\n<text text-anchor=\"middle\" x=\"155.5\" y=\"-270.8\" font-family=\"Times,serif\" font-size=\"14.00\">&lt;= 1.9</text>\n</g>\n<!-- 0_2 -->\n<g id=\"node3\" class=\"node\">\n<title>0_2</title>\n<polygon fill=\"#a0522d\" stroke=\"black\" points=\"173.5,-225.5 173.5,-248.5 251.5,-248.5 251.5,-225.5 173.5,-225.5\"/>\n<text text-anchor=\"middle\" x=\"212.5\" y=\"-233.3\" font-family=\"Times,serif\" font-size=\"14.00\">petal&#45;width</text>\n</g>\n<!-- 0&#45;&gt;0_2 -->\n<g id=\"edge12\" class=\"edge\">\n<title>0&#45;&gt;0_2</title>\n<path fill=\"none\" stroke=\"black\" d=\"M158.8,-300.23C168.66,-288.8 184.43,-270.52 196.34,-256.72\"/>\n<polygon fill=\"black\" stroke=\"black\" points=\"199.28,-258.67 203.17,-248.82 193.98,-254.1 199.28,-258.67\"/>\n<text text-anchor=\"middle\" x=\"202.5\" y=\"-270.8\" font-family=\"Times,serif\" font-size=\"14.00\">&gt; 1.9</text>\n</g>\n<!-- 0_2_1 -->\n<g id=\"node4\" class=\"node\">\n<title>0_2_1</title>\n<polygon fill=\"#a0522d\" stroke=\"black\" points=\"111,-150.5 111,-173.5 192,-173.5 192,-150.5 111,-150.5\"/>\n<text text-anchor=\"middle\" x=\"151.5\" y=\"-158.3\" font-family=\"Times,serif\" font-size=\"14.00\">petal&#45;length</text>\n</g>\n<!-- 0_2&#45;&gt;0_2_1 -->\n<g id=\"edge6\" class=\"edge\">\n<title>0_2&#45;&gt;0_2_1</title>\n<path fill=\"none\" stroke=\"black\" d=\"M203.5,-225.23C193.95,-213.8 178.67,-195.52 167.15,-181.72\"/>\n<polygon fill=\"black\" stroke=\"black\" points=\"169.64,-179.24 160.54,-173.82 164.26,-183.73 169.64,-179.24\"/>\n<text text-anchor=\"middle\" x=\"206.5\" y=\"-195.8\" font-family=\"Times,serif\" font-size=\"14.00\">&lt;= 1.6</text>\n</g>\n<!-- 0_2_2 -->\n<g id=\"node9\" class=\"node\">\n<title>0_2_2</title>\n<polygon fill=\"#a0522d\" stroke=\"black\" points=\"222,-150.5 222,-173.5 303,-173.5 303,-150.5 222,-150.5\"/>\n<text text-anchor=\"middle\" x=\"262.5\" y=\"-158.3\" font-family=\"Times,serif\" font-size=\"14.00\">petal&#45;length</text>\n</g>\n<!-- 0_2&#45;&gt;0_2_2 -->\n<g id=\"edge11\" class=\"edge\">\n<title>0_2&#45;&gt;0_2_2</title>\n<path fill=\"none\" stroke=\"black\" d=\"M219.88,-225.23C227.63,-213.91 239.99,-195.87 249.41,-182.12\"/>\n<polygon fill=\"black\" stroke=\"black\" points=\"252.33,-184.04 255.09,-173.82 246.55,-180.09 252.33,-184.04\"/>\n<text text-anchor=\"middle\" x=\"257.5\" y=\"-195.8\" font-family=\"Times,serif\" font-size=\"14.00\">&gt; 1.6</text>\n</g>\n<!-- 0_2_1_1 -->\n<g id=\"node5\" class=\"node\">\n<title>0_2_1_1</title>\n<polygon fill=\"forestgreen\" stroke=\"black\" points=\"0,-75.5 0,-98.5 93,-98.5 93,-75.5 0,-75.5\"/>\n<text text-anchor=\"middle\" x=\"46.5\" y=\"-83.3\" font-family=\"Times,serif\" font-size=\"14.00\">Iris&#45;versicolor</text>\n</g>\n<!-- 0_2_1&#45;&gt;0_2_1_1 -->\n<g id=\"edge2\" class=\"edge\">\n<title>0_2_1&#45;&gt;0_2_1_1</title>\n<path fill=\"none\" stroke=\"black\" d=\"M135.93,-150.28C128.01,-144.82 118.23,-138.07 109.5,-132 96.4,-122.9 81.8,-112.71 69.96,-104.43\"/>\n<polygon fill=\"black\" stroke=\"black\" points=\"71.7,-101.38 61.5,-98.51 67.69,-107.11 71.7,-101.38\"/>\n<text text-anchor=\"middle\" x=\"128.5\" y=\"-120.8\" font-family=\"Times,serif\" font-size=\"14.00\">&lt;= 4.9</text>\n</g>\n<!-- 0_2_1_2 -->\n<g id=\"node6\" class=\"node\">\n<title>0_2_1_2</title>\n<polygon fill=\"#a0522d\" stroke=\"black\" points=\"111.5,-75.5 111.5,-98.5 191.5,-98.5 191.5,-75.5 111.5,-75.5\"/>\n<text text-anchor=\"middle\" x=\"151.5\" y=\"-83.3\" font-family=\"Times,serif\" font-size=\"14.00\">sepal&#45;width</text>\n</g>\n<!-- 0_2_1&#45;&gt;0_2_1_2 -->\n<g id=\"edge5\" class=\"edge\">\n<title>0_2_1&#45;&gt;0_2_1_2</title>\n<path fill=\"none\" stroke=\"black\" d=\"M151.5,-150.23C151.5,-139.45 151.5,-122.57 151.5,-109.11\"/>\n<polygon fill=\"black\" stroke=\"black\" points=\"155,-108.82 151.5,-98.82 148,-108.82 155,-108.82\"/>\n<text text-anchor=\"middle\" x=\"166.5\" y=\"-120.8\" font-family=\"Times,serif\" font-size=\"14.00\">&gt; 4.9</text>\n</g>\n<!-- 0_2_1_2_1 -->\n<g id=\"node7\" class=\"node\">\n<title>0_2_1_2_1</title>\n<polygon fill=\"forestgreen\" stroke=\"black\" points=\"0,-0.5 0,-23.5 87,-23.5 87,-0.5 0,-0.5\"/>\n<text text-anchor=\"middle\" x=\"43.5\" y=\"-8.3\" font-family=\"Times,serif\" font-size=\"14.00\">Iris&#45;virginica</text>\n</g>\n<!-- 0_2_1_2&#45;&gt;0_2_1_2_1 -->\n<g id=\"edge3\" class=\"edge\">\n<title>0_2_1_2&#45;&gt;0_2_1_2_1</title>\n<path fill=\"none\" stroke=\"black\" d=\"M135.56,-75.23C117.59,-63.08 88.18,-43.2 67.45,-29.19\"/>\n<polygon fill=\"black\" stroke=\"black\" points=\"69.39,-26.28 59.15,-23.58 65.47,-32.08 69.39,-26.28\"/>\n<text text-anchor=\"middle\" x=\"126.5\" y=\"-45.8\" font-family=\"Times,serif\" font-size=\"14.00\">&lt;= 2.2</text>\n</g>\n<!-- 0_2_1_2_2 -->\n<g id=\"node8\" class=\"node\">\n<title>0_2_1_2_2</title>\n<polygon fill=\"forestgreen\" stroke=\"black\" points=\"105,-0.5 105,-23.5 198,-23.5 198,-0.5 105,-0.5\"/>\n<text text-anchor=\"middle\" x=\"151.5\" y=\"-8.3\" font-family=\"Times,serif\" font-size=\"14.00\">Iris&#45;versicolor</text>\n</g>\n<!-- 0_2_1_2&#45;&gt;0_2_1_2_2 -->\n<g id=\"edge4\" class=\"edge\">\n<title>0_2_1_2&#45;&gt;0_2_1_2_2</title>\n<path fill=\"none\" stroke=\"black\" d=\"M151.5,-75.23C151.5,-64.45 151.5,-47.57 151.5,-34.11\"/>\n<polygon fill=\"black\" stroke=\"black\" points=\"155,-33.82 151.5,-23.82 148,-33.82 155,-33.82\"/>\n<text text-anchor=\"middle\" x=\"166.5\" y=\"-45.8\" font-family=\"Times,serif\" font-size=\"14.00\">&gt; 2.2</text>\n</g>\n<!-- 0_2_2_1 -->\n<g id=\"node10\" class=\"node\">\n<title>0_2_2_1</title>\n<polygon fill=\"#a0522d\" stroke=\"black\" points=\"221,-75.5 221,-98.5 304,-98.5 304,-75.5 221,-75.5\"/>\n<text text-anchor=\"middle\" x=\"262.5\" y=\"-83.3\" font-family=\"Times,serif\" font-size=\"14.00\">sepal&#45;length</text>\n</g>\n<!-- 0_2_2&#45;&gt;0_2_2_1 -->\n<g id=\"edge9\" class=\"edge\">\n<title>0_2_2&#45;&gt;0_2_2_1</title>\n<path fill=\"none\" stroke=\"black\" d=\"M262.5,-150.23C262.5,-139.45 262.5,-122.57 262.5,-109.11\"/>\n<polygon fill=\"black\" stroke=\"black\" points=\"266,-108.82 262.5,-98.82 259,-108.82 266,-108.82\"/>\n<text text-anchor=\"middle\" x=\"281.5\" y=\"-120.8\" font-family=\"Times,serif\" font-size=\"14.00\">&lt;= 4.8</text>\n</g>\n<!-- 0_2_2_2 -->\n<g id=\"node13\" class=\"node\">\n<title>0_2_2_2</title>\n<polygon fill=\"forestgreen\" stroke=\"black\" points=\"322,-75.5 322,-98.5 409,-98.5 409,-75.5 322,-75.5\"/>\n<text text-anchor=\"middle\" x=\"365.5\" y=\"-83.3\" font-family=\"Times,serif\" font-size=\"14.00\">Iris&#45;virginica</text>\n</g>\n<!-- 0_2_2&#45;&gt;0_2_2_2 -->\n<g id=\"edge10\" class=\"edge\">\n<title>0_2_2&#45;&gt;0_2_2_2</title>\n<path fill=\"none\" stroke=\"black\" d=\"M278.11,-150.33C286.04,-144.89 295.81,-138.13 304.5,-132 317.25,-123 331.39,-112.81 342.85,-104.51\"/>\n<polygon fill=\"black\" stroke=\"black\" points=\"344.98,-107.28 351.02,-98.57 340.87,-101.62 344.98,-107.28\"/>\n<text text-anchor=\"middle\" x=\"340.5\" y=\"-120.8\" font-family=\"Times,serif\" font-size=\"14.00\">&gt; 4.8</text>\n</g>\n<!-- 0_2_2_1_1 -->\n<g id=\"node11\" class=\"node\">\n<title>0_2_2_1_1</title>\n<polygon fill=\"forestgreen\" stroke=\"black\" points=\"216,-0.5 216,-23.5 309,-23.5 309,-0.5 216,-0.5\"/>\n<text text-anchor=\"middle\" x=\"262.5\" y=\"-8.3\" font-family=\"Times,serif\" font-size=\"14.00\">Iris&#45;versicolor</text>\n</g>\n<!-- 0_2_2_1&#45;&gt;0_2_2_1_1 -->\n<g id=\"edge7\" class=\"edge\">\n<title>0_2_2_1&#45;&gt;0_2_2_1_1</title>\n<path fill=\"none\" stroke=\"black\" d=\"M262.5,-75.23C262.5,-64.45 262.5,-47.57 262.5,-34.11\"/>\n<polygon fill=\"black\" stroke=\"black\" points=\"266,-33.82 262.5,-23.82 259,-33.82 266,-33.82\"/>\n<text text-anchor=\"middle\" x=\"281.5\" y=\"-45.8\" font-family=\"Times,serif\" font-size=\"14.00\">&lt;= 5.9</text>\n</g>\n<!-- 0_2_2_1_2 -->\n<g id=\"node12\" class=\"node\">\n<title>0_2_2_1_2</title>\n<polygon fill=\"forestgreen\" stroke=\"black\" points=\"327,-0.5 327,-23.5 414,-23.5 414,-0.5 327,-0.5\"/>\n<text text-anchor=\"middle\" x=\"370.5\" y=\"-8.3\" font-family=\"Times,serif\" font-size=\"14.00\">Iris&#45;virginica</text>\n</g>\n<!-- 0_2_2_1&#45;&gt;0_2_2_1_2 -->\n<g id=\"edge8\" class=\"edge\">\n<title>0_2_2_1&#45;&gt;0_2_2_1_2</title>\n<path fill=\"none\" stroke=\"black\" d=\"M278.44,-75.23C296.41,-63.08 325.82,-43.2 346.55,-29.19\"/>\n<polygon fill=\"black\" stroke=\"black\" points=\"348.53,-32.08 354.85,-23.58 344.61,-26.28 348.53,-32.08\"/>\n<text text-anchor=\"middle\" x=\"341.5\" y=\"-45.8\" font-family=\"Times,serif\" font-size=\"14.00\">&gt; 5.9</text>\n</g>\n</g>\n</svg>\n",
            "text/plain": [
              "<graphviz.graphs.Digraph at 0x7b303f763fa0>"
            ]
          },
          "metadata": {},
          "execution_count": 23
        }
      ],
      "source": [
        "g = clf.visualize_tree(tree_iris)\n",
        "g.render('tree_iris', format='png', view=True)\n",
        "clf.visualize_tree(tree_iris)"
      ]
    },
    {
      "cell_type": "markdown",
      "metadata": {
        "id": "fQCFehWU3Vp1"
      },
      "source": [
        "### 🟩 Tree with Pre-pruning"
      ]
    },
    {
      "cell_type": "code",
      "execution_count": 24,
      "metadata": {
        "colab": {
          "base_uri": "https://localhost:8080/"
        },
        "id": "v8rkRtNf3UB1",
        "outputId": "01f12c24-0aee-469c-8193-030406922d13"
      },
      "outputs": [
        {
          "output_type": "execute_result",
          "data": {
            "text/plain": [
              "<DecisionTree>\n",
              "\u001b[94m<DecisionNode feature=\u001b[0m\"petal-length\">\n",
              "  <DecisionBranch value=\"<= 1.9\">\n",
              "    \u001b[92m<LeafNode label=\u001b[0m\"Iris-setosa\" \u001b[93mcount=\u001b[0m\"28\" />\n",
              "  </DecisionBranch>\n",
              "  <DecisionBranch value=\"> 1.9\">\n",
              "    \u001b[94m<DecisionNode feature=\u001b[0m\"petal-width\">\n",
              "      <DecisionBranch value=\"<= 1.6\">\n",
              "        \u001b[94m<DecisionNode feature=\u001b[0m\"petal-length\">\n",
              "          <DecisionBranch value=\"<= 4.9\">\n",
              "            \u001b[92m<LeafNode label=\u001b[0m\"Iris-versicolor\" \u001b[93mcount=\u001b[0m\"26\" />\n",
              "          </DecisionBranch>\n",
              "          <DecisionBranch value=\"> 4.9\">\n",
              "            \u001b[92m<LeafNode label=\u001b[0m\"Iris-versicolor\" \u001b[93mcount=\u001b[0m\"1\" />\n",
              "          </DecisionBranch>\n",
              "        </DecisionNode>\n",
              "      </DecisionBranch>\n",
              "      <DecisionBranch value=\"> 1.6\">\n",
              "        \u001b[94m<DecisionNode feature=\u001b[0m\"petal-length\">\n",
              "          <DecisionBranch value=\"<= 4.8\">\n",
              "            \u001b[92m<LeafNode label=\u001b[0m\"Iris-virginica\" \u001b[93mcount=\u001b[0m\"2\" />\n",
              "          </DecisionBranch>\n",
              "          <DecisionBranch value=\"> 4.8\">\n",
              "            \u001b[92m<LeafNode label=\u001b[0m\"Iris-virginica\" \u001b[93mcount=\u001b[0m\"25\" />\n",
              "          </DecisionBranch>\n",
              "        </DecisionNode>\n",
              "      </DecisionBranch>\n",
              "    </DecisionNode>\n",
              "  </DecisionBranch>\n",
              "</DecisionNode>\n",
              "</DecisionTree>"
            ]
          },
          "metadata": {},
          "execution_count": 24
        }
      ],
      "source": [
        "clf = DecisionTreeClassification(min_samples_leaf=5, max_depth=3)\n",
        "tree_with_pre_pruning = clf.fit(data_train, target)\n",
        "tree_with_pre_pruning"
      ]
    },
    {
      "cell_type": "markdown",
      "metadata": {
        "id": "zgS0dLPp4HYu"
      },
      "source": [
        "### 🟥 Evaluation"
      ]
    },
    {
      "cell_type": "code",
      "execution_count": 25,
      "metadata": {
        "colab": {
          "base_uri": "https://localhost:8080/"
        },
        "id": "QaevrJzX31fO",
        "outputId": "8b39f2c1-2261-4ed3-c073-4385a2763f1a"
      },
      "outputs": [
        {
          "output_type": "stream",
          "name": "stdout",
          "text": [
            "Validation Accuracy: 0.9642857142857143\n",
            "Test Accuracy: 0.9210526315789473\n"
          ]
        }
      ],
      "source": [
        "valid_accuracy = clf.validate_tree(tree_with_pre_pruning, data_valid)\n",
        "test_accuracy = clf.validate_tree(tree_with_pre_pruning, data_test)\n",
        "\n",
        "print(f'Validation Accuracy: {valid_accuracy}')\n",
        "print(f'Test Accuracy: {test_accuracy}')"
      ]
    },
    {
      "cell_type": "markdown",
      "metadata": {
        "id": "nVtHrtYO4LvU"
      },
      "source": [
        "### 🟦 Visualization"
      ]
    },
    {
      "cell_type": "code",
      "execution_count": 26,
      "metadata": {
        "colab": {
          "base_uri": "https://localhost:8080/",
          "height": 363
        },
        "id": "U51HNbEt38b9",
        "outputId": "e16b7bdf-d4c4-4b70-cf5d-c3131589da2f"
      },
      "outputs": [
        {
          "output_type": "execute_result",
          "data": {
            "image/svg+xml": "<?xml version=\"1.0\" encoding=\"UTF-8\" standalone=\"no\"?>\n<!DOCTYPE svg PUBLIC \"-//W3C//DTD SVG 1.1//EN\"\n \"http://www.w3.org/Graphics/SVG/1.1/DTD/svg11.dtd\">\n<!-- Generated by graphviz version 2.43.0 (0)\n -->\n<!-- Title: %3 Pages: 1 -->\n<svg width=\"422pt\" height=\"257pt\"\n viewBox=\"0.00 0.00 422.00 257.00\" xmlns=\"http://www.w3.org/2000/svg\" xmlns:xlink=\"http://www.w3.org/1999/xlink\">\n<g id=\"graph0\" class=\"graph\" transform=\"scale(1 1) rotate(0) translate(4 253)\">\n<title>%3</title>\n<polygon fill=\"white\" stroke=\"transparent\" points=\"-4,4 -4,-253 418,-253 418,4 -4,4\"/>\n<!-- 0 -->\n<g id=\"node1\" class=\"node\">\n<title>0</title>\n<polygon fill=\"burlywood\" stroke=\"black\" points=\"122,-225.5 122,-248.5 203,-248.5 203,-225.5 122,-225.5\"/>\n<text text-anchor=\"middle\" x=\"162.5\" y=\"-233.3\" font-family=\"Times,serif\" font-size=\"14.00\">petal&#45;length</text>\n</g>\n<!-- 0_1 -->\n<g id=\"node2\" class=\"node\">\n<title>0_1</title>\n<polygon fill=\"forestgreen\" stroke=\"black\" points=\"88.5,-150.5 88.5,-173.5 160.5,-173.5 160.5,-150.5 88.5,-150.5\"/>\n<text text-anchor=\"middle\" x=\"124.5\" y=\"-158.3\" font-family=\"Times,serif\" font-size=\"14.00\">Iris&#45;setosa</text>\n</g>\n<!-- 0&#45;&gt;0_1 -->\n<g id=\"edge1\" class=\"edge\">\n<title>0&#45;&gt;0_1</title>\n<path fill=\"none\" stroke=\"black\" d=\"M153.82,-225.42C149.74,-220.11 145,-213.45 141.5,-207 137.47,-199.58 133.93,-191 131.13,-183.39\"/>\n<polygon fill=\"black\" stroke=\"black\" points=\"134.4,-182.13 127.81,-173.83 127.79,-184.43 134.4,-182.13\"/>\n<text text-anchor=\"middle\" x=\"160.5\" y=\"-195.8\" font-family=\"Times,serif\" font-size=\"14.00\">&lt;= 1.9</text>\n</g>\n<!-- 0_2 -->\n<g id=\"node3\" class=\"node\">\n<title>0_2</title>\n<polygon fill=\"#a0522d\" stroke=\"black\" points=\"178.5,-150.5 178.5,-173.5 256.5,-173.5 256.5,-150.5 178.5,-150.5\"/>\n<text text-anchor=\"middle\" x=\"217.5\" y=\"-158.3\" font-family=\"Times,serif\" font-size=\"14.00\">petal&#45;width</text>\n</g>\n<!-- 0&#45;&gt;0_2 -->\n<g id=\"edge8\" class=\"edge\">\n<title>0&#45;&gt;0_2</title>\n<path fill=\"none\" stroke=\"black\" d=\"M170.62,-225.23C179.15,-213.91 192.74,-195.87 203.1,-182.12\"/>\n<polygon fill=\"black\" stroke=\"black\" points=\"206.13,-183.91 209.35,-173.82 200.54,-179.7 206.13,-183.91\"/>\n<text text-anchor=\"middle\" x=\"209.5\" y=\"-195.8\" font-family=\"Times,serif\" font-size=\"14.00\">&gt; 1.9</text>\n</g>\n<!-- 0_2_1 -->\n<g id=\"node4\" class=\"node\">\n<title>0_2_1</title>\n<polygon fill=\"#a0522d\" stroke=\"black\" points=\"117,-75.5 117,-98.5 198,-98.5 198,-75.5 117,-75.5\"/>\n<text text-anchor=\"middle\" x=\"157.5\" y=\"-83.3\" font-family=\"Times,serif\" font-size=\"14.00\">petal&#45;length</text>\n</g>\n<!-- 0_2&#45;&gt;0_2_1 -->\n<g id=\"edge4\" class=\"edge\">\n<title>0_2&#45;&gt;0_2_1</title>\n<path fill=\"none\" stroke=\"black\" d=\"M208.65,-150.23C199.25,-138.8 184.23,-120.52 172.89,-106.72\"/>\n<polygon fill=\"black\" stroke=\"black\" points=\"175.44,-104.32 166.39,-98.82 170.04,-108.76 175.44,-104.32\"/>\n<text text-anchor=\"middle\" x=\"211.5\" y=\"-120.8\" font-family=\"Times,serif\" font-size=\"14.00\">&lt;= 1.6</text>\n</g>\n<!-- 0_2_2 -->\n<g id=\"node7\" class=\"node\">\n<title>0_2_2</title>\n<polygon fill=\"#a0522d\" stroke=\"black\" points=\"225,-75.5 225,-98.5 306,-98.5 306,-75.5 225,-75.5\"/>\n<text text-anchor=\"middle\" x=\"265.5\" y=\"-83.3\" font-family=\"Times,serif\" font-size=\"14.00\">petal&#45;length</text>\n</g>\n<!-- 0_2&#45;&gt;0_2_2 -->\n<g id=\"edge7\" class=\"edge\">\n<title>0_2&#45;&gt;0_2_2</title>\n<path fill=\"none\" stroke=\"black\" d=\"M224.58,-150.23C231.96,-139.01 243.66,-121.21 252.67,-107.51\"/>\n<polygon fill=\"black\" stroke=\"black\" points=\"255.82,-109.09 258.39,-98.82 249.97,-105.25 255.82,-109.09\"/>\n<text text-anchor=\"middle\" x=\"260.5\" y=\"-120.8\" font-family=\"Times,serif\" font-size=\"14.00\">&gt; 1.6</text>\n</g>\n<!-- 0_2_1_1 -->\n<g id=\"node5\" class=\"node\">\n<title>0_2_1_1</title>\n<polygon fill=\"forestgreen\" stroke=\"black\" points=\"0,-0.5 0,-23.5 93,-23.5 93,-0.5 0,-0.5\"/>\n<text text-anchor=\"middle\" x=\"46.5\" y=\"-8.3\" font-family=\"Times,serif\" font-size=\"14.00\">Iris&#45;versicolor</text>\n</g>\n<!-- 0_2_1&#45;&gt;0_2_1_1 -->\n<g id=\"edge2\" class=\"edge\">\n<title>0_2_1&#45;&gt;0_2_1_1</title>\n<path fill=\"none\" stroke=\"black\" d=\"M141.12,-75.23C122.65,-63.08 92.42,-43.2 71.11,-29.19\"/>\n<polygon fill=\"black\" stroke=\"black\" points=\"72.86,-26.15 62.58,-23.58 69.02,-32 72.86,-26.15\"/>\n<text text-anchor=\"middle\" x=\"131.5\" y=\"-45.8\" font-family=\"Times,serif\" font-size=\"14.00\">&lt;= 4.9</text>\n</g>\n<!-- 0_2_1_2 -->\n<g id=\"node6\" class=\"node\">\n<title>0_2_1_2</title>\n<polygon fill=\"forestgreen\" stroke=\"black\" points=\"111,-0.5 111,-23.5 204,-23.5 204,-0.5 111,-0.5\"/>\n<text text-anchor=\"middle\" x=\"157.5\" y=\"-8.3\" font-family=\"Times,serif\" font-size=\"14.00\">Iris&#45;versicolor</text>\n</g>\n<!-- 0_2_1&#45;&gt;0_2_1_2 -->\n<g id=\"edge3\" class=\"edge\">\n<title>0_2_1&#45;&gt;0_2_1_2</title>\n<path fill=\"none\" stroke=\"black\" d=\"M157.5,-75.23C157.5,-64.45 157.5,-47.57 157.5,-34.11\"/>\n<polygon fill=\"black\" stroke=\"black\" points=\"161,-33.82 157.5,-23.82 154,-33.82 161,-33.82\"/>\n<text text-anchor=\"middle\" x=\"172.5\" y=\"-45.8\" font-family=\"Times,serif\" font-size=\"14.00\">&gt; 4.9</text>\n</g>\n<!-- 0_2_2_1 -->\n<g id=\"node8\" class=\"node\">\n<title>0_2_2_1</title>\n<polygon fill=\"forestgreen\" stroke=\"black\" points=\"222,-0.5 222,-23.5 309,-23.5 309,-0.5 222,-0.5\"/>\n<text text-anchor=\"middle\" x=\"265.5\" y=\"-8.3\" font-family=\"Times,serif\" font-size=\"14.00\">Iris&#45;virginica</text>\n</g>\n<!-- 0_2_2&#45;&gt;0_2_2_1 -->\n<g id=\"edge5\" class=\"edge\">\n<title>0_2_2&#45;&gt;0_2_2_1</title>\n<path fill=\"none\" stroke=\"black\" d=\"M265.5,-75.23C265.5,-64.45 265.5,-47.57 265.5,-34.11\"/>\n<polygon fill=\"black\" stroke=\"black\" points=\"269,-33.82 265.5,-23.82 262,-33.82 269,-33.82\"/>\n<text text-anchor=\"middle\" x=\"284.5\" y=\"-45.8\" font-family=\"Times,serif\" font-size=\"14.00\">&lt;= 4.8</text>\n</g>\n<!-- 0_2_2_2 -->\n<g id=\"node9\" class=\"node\">\n<title>0_2_2_2</title>\n<polygon fill=\"forestgreen\" stroke=\"black\" points=\"327,-0.5 327,-23.5 414,-23.5 414,-0.5 327,-0.5\"/>\n<text text-anchor=\"middle\" x=\"370.5\" y=\"-8.3\" font-family=\"Times,serif\" font-size=\"14.00\">Iris&#45;virginica</text>\n</g>\n<!-- 0_2_2&#45;&gt;0_2_2_2 -->\n<g id=\"edge6\" class=\"edge\">\n<title>0_2_2&#45;&gt;0_2_2_2</title>\n<path fill=\"none\" stroke=\"black\" d=\"M281.07,-75.28C288.99,-69.82 298.77,-63.07 307.5,-57 320.6,-47.9 335.2,-37.71 347.04,-29.43\"/>\n<polygon fill=\"black\" stroke=\"black\" points=\"349.31,-32.11 355.5,-23.51 345.3,-26.38 349.31,-32.11\"/>\n<text text-anchor=\"middle\" x=\"342.5\" y=\"-45.8\" font-family=\"Times,serif\" font-size=\"14.00\">&gt; 4.8</text>\n</g>\n</g>\n</svg>\n",
            "text/plain": [
              "<graphviz.graphs.Digraph at 0x7b303f246b30>"
            ]
          },
          "metadata": {},
          "execution_count": 26
        }
      ],
      "source": [
        "g = clf.visualize_tree(tree_with_pre_pruning)\n",
        "g.render('tree_with_pre_pruning', format='png', view=True)\n",
        "clf.visualize_tree(tree_with_pre_pruning)"
      ]
    },
    {
      "cell_type": "markdown",
      "metadata": {
        "id": "7b87nY0h4hTm"
      },
      "source": [
        "### 🟩 Tree with Post-pruning"
      ]
    },
    {
      "cell_type": "code",
      "execution_count": 27,
      "metadata": {
        "colab": {
          "base_uri": "https://localhost:8080/"
        },
        "id": "VirEYpc-4WQG",
        "outputId": "00a7ee7e-3305-410f-959f-ce8434fc8a47"
      },
      "outputs": [
        {
          "output_type": "execute_result",
          "data": {
            "text/plain": [
              "<DecisionTree>\n",
              "\u001b[94m<DecisionNode feature=\u001b[0m\"petal-length\">\n",
              "  <DecisionBranch value=\"<= 1.9\">\n",
              "    \u001b[92m<LeafNode label=\u001b[0m\"Iris-setosa\" \u001b[93mcount=\u001b[0m\"28\" />\n",
              "  </DecisionBranch>\n",
              "  <DecisionBranch value=\"> 1.9\">\n",
              "    \u001b[94m<DecisionNode feature=\u001b[0m\"petal-width\">\n",
              "      <DecisionBranch value=\"<= 1.6\">\n",
              "        \u001b[94m<DecisionNode feature=\u001b[0m\"petal-length\">\n",
              "          <DecisionBranch value=\"<= 4.9\">\n",
              "            \u001b[92m<LeafNode label=\u001b[0m\"Iris-versicolor\" \u001b[93mcount=\u001b[0m\"26\" />\n",
              "          </DecisionBranch>\n",
              "          <DecisionBranch value=\"> 4.9\">\n",
              "            \u001b[92m<LeafNode label=\u001b[0m\"Iris-virginica\" \u001b[93mcount=\u001b[0m\"1\" />\n",
              "          </DecisionBranch>\n",
              "        </DecisionNode>\n",
              "      </DecisionBranch>\n",
              "      <DecisionBranch value=\"> 1.6\">\n",
              "        \u001b[92m<LeafNode label=\u001b[0m\"Iris-virginica\" \u001b[93mcount=\u001b[0m\"27\" />\n",
              "      </DecisionBranch>\n",
              "    </DecisionNode>\n",
              "  </DecisionBranch>\n",
              "</DecisionNode>\n",
              "</DecisionTree>"
            ]
          },
          "metadata": {},
          "execution_count": 27
        }
      ],
      "source": [
        "tree_with_post_pruning = clf.post_prune(tree_iris, data_valid, target)\n",
        "tree_with_post_pruning"
      ]
    },
    {
      "cell_type": "markdown",
      "metadata": {
        "id": "p2yZgoyq5Flv"
      },
      "source": [
        "### 🟥 Evaluation"
      ]
    },
    {
      "cell_type": "code",
      "execution_count": 28,
      "metadata": {
        "colab": {
          "base_uri": "https://localhost:8080/"
        },
        "id": "c-8DIkn75GJe",
        "outputId": "8a3ead33-10c7-4a09-9bd4-52b93861be4d"
      },
      "outputs": [
        {
          "output_type": "stream",
          "name": "stdout",
          "text": [
            "Validation Accuracy: 1.0\n",
            "Test Accuracy: 0.9736842105263158\n"
          ]
        }
      ],
      "source": [
        "valid_accuracy = clf.validate_tree(tree_with_post_pruning, data_valid)\n",
        "test_accuracy = clf.validate_tree(tree_with_post_pruning, data_test)\n",
        "\n",
        "print(f'Validation Accuracy: {valid_accuracy}')\n",
        "print(f'Test Accuracy: {test_accuracy}')"
      ]
    },
    {
      "cell_type": "markdown",
      "metadata": {
        "id": "-wgORh5J5bD0"
      },
      "source": [
        "### 🟦 Visualization"
      ]
    },
    {
      "cell_type": "code",
      "execution_count": 29,
      "metadata": {
        "colab": {
          "base_uri": "https://localhost:8080/",
          "height": 363
        },
        "id": "0pNK2ENt5bl-",
        "outputId": "66f80d4f-d446-47cd-b113-ae38e1cc48bd"
      },
      "outputs": [
        {
          "output_type": "execute_result",
          "data": {
            "image/svg+xml": "<?xml version=\"1.0\" encoding=\"UTF-8\" standalone=\"no\"?>\n<!DOCTYPE svg PUBLIC \"-//W3C//DTD SVG 1.1//EN\"\n \"http://www.w3.org/Graphics/SVG/1.1/DTD/svg11.dtd\">\n<!-- Generated by graphviz version 2.43.0 (0)\n -->\n<!-- Title: %3 Pages: 1 -->\n<svg width=\"254pt\" height=\"257pt\"\n viewBox=\"0.00 0.00 254.00 257.00\" xmlns=\"http://www.w3.org/2000/svg\" xmlns:xlink=\"http://www.w3.org/1999/xlink\">\n<g id=\"graph0\" class=\"graph\" transform=\"scale(1 1) rotate(0) translate(4 253)\">\n<title>%3</title>\n<polygon fill=\"white\" stroke=\"transparent\" points=\"-4,4 -4,-253 250,-253 250,4 -4,4\"/>\n<!-- 0 -->\n<g id=\"node1\" class=\"node\">\n<title>0</title>\n<polygon fill=\"burlywood\" stroke=\"black\" points=\"66,-225.5 66,-248.5 147,-248.5 147,-225.5 66,-225.5\"/>\n<text text-anchor=\"middle\" x=\"106.5\" y=\"-233.3\" font-family=\"Times,serif\" font-size=\"14.00\">petal&#45;length</text>\n</g>\n<!-- 0_1 -->\n<g id=\"node2\" class=\"node\">\n<title>0_1</title>\n<polygon fill=\"forestgreen\" stroke=\"black\" points=\"32.5,-150.5 32.5,-173.5 104.5,-173.5 104.5,-150.5 32.5,-150.5\"/>\n<text text-anchor=\"middle\" x=\"68.5\" y=\"-158.3\" font-family=\"Times,serif\" font-size=\"14.00\">Iris&#45;setosa</text>\n</g>\n<!-- 0&#45;&gt;0_1 -->\n<g id=\"edge1\" class=\"edge\">\n<title>0&#45;&gt;0_1</title>\n<path fill=\"none\" stroke=\"black\" d=\"M97.82,-225.42C93.74,-220.11 89,-213.45 85.5,-207 81.47,-199.58 77.93,-191 75.13,-183.39\"/>\n<polygon fill=\"black\" stroke=\"black\" points=\"78.4,-182.13 71.81,-173.83 71.79,-184.43 78.4,-182.13\"/>\n<text text-anchor=\"middle\" x=\"104.5\" y=\"-195.8\" font-family=\"Times,serif\" font-size=\"14.00\">&lt;= 1.9</text>\n</g>\n<!-- 0_2 -->\n<g id=\"node3\" class=\"node\">\n<title>0_2</title>\n<polygon fill=\"#a0522d\" stroke=\"black\" points=\"122.5,-150.5 122.5,-173.5 200.5,-173.5 200.5,-150.5 122.5,-150.5\"/>\n<text text-anchor=\"middle\" x=\"161.5\" y=\"-158.3\" font-family=\"Times,serif\" font-size=\"14.00\">petal&#45;width</text>\n</g>\n<!-- 0&#45;&gt;0_2 -->\n<g id=\"edge6\" class=\"edge\">\n<title>0&#45;&gt;0_2</title>\n<path fill=\"none\" stroke=\"black\" d=\"M114.62,-225.23C123.15,-213.91 136.74,-195.87 147.1,-182.12\"/>\n<polygon fill=\"black\" stroke=\"black\" points=\"150.13,-183.91 153.35,-173.82 144.54,-179.7 150.13,-183.91\"/>\n<text text-anchor=\"middle\" x=\"153.5\" y=\"-195.8\" font-family=\"Times,serif\" font-size=\"14.00\">&gt; 1.9</text>\n</g>\n<!-- 0_2_1 -->\n<g id=\"node4\" class=\"node\">\n<title>0_2_1</title>\n<polygon fill=\"#a0522d\" stroke=\"black\" points=\"60,-75.5 60,-98.5 141,-98.5 141,-75.5 60,-75.5\"/>\n<text text-anchor=\"middle\" x=\"100.5\" y=\"-83.3\" font-family=\"Times,serif\" font-size=\"14.00\">petal&#45;length</text>\n</g>\n<!-- 0_2&#45;&gt;0_2_1 -->\n<g id=\"edge4\" class=\"edge\">\n<title>0_2&#45;&gt;0_2_1</title>\n<path fill=\"none\" stroke=\"black\" d=\"M151.72,-150.39C146.78,-144.96 140.74,-138.2 135.5,-132 128.56,-123.79 121.11,-114.49 114.88,-106.57\"/>\n<polygon fill=\"black\" stroke=\"black\" points=\"117.59,-104.36 108.67,-98.63 112.07,-108.67 117.59,-104.36\"/>\n<text text-anchor=\"middle\" x=\"154.5\" y=\"-120.8\" font-family=\"Times,serif\" font-size=\"14.00\">&lt;= 1.6</text>\n</g>\n<!-- 0_2_2 -->\n<g id=\"node7\" class=\"node\">\n<title>0_2_2</title>\n<polygon fill=\"forestgreen\" stroke=\"black\" points=\"159,-75.5 159,-98.5 246,-98.5 246,-75.5 159,-75.5\"/>\n<text text-anchor=\"middle\" x=\"202.5\" y=\"-83.3\" font-family=\"Times,serif\" font-size=\"14.00\">Iris&#45;virginica</text>\n</g>\n<!-- 0_2&#45;&gt;0_2_2 -->\n<g id=\"edge5\" class=\"edge\">\n<title>0_2&#45;&gt;0_2_2</title>\n<path fill=\"none\" stroke=\"black\" d=\"M167.55,-150.23C173.79,-139.12 183.66,-121.55 191.32,-107.91\"/>\n<polygon fill=\"black\" stroke=\"black\" points=\"194.58,-109.25 196.43,-98.82 188.48,-105.82 194.58,-109.25\"/>\n<text text-anchor=\"middle\" x=\"200.5\" y=\"-120.8\" font-family=\"Times,serif\" font-size=\"14.00\">&gt; 1.6</text>\n</g>\n<!-- 0_2_1_1 -->\n<g id=\"node5\" class=\"node\">\n<title>0_2_1_1</title>\n<polygon fill=\"forestgreen\" stroke=\"black\" points=\"0,-0.5 0,-23.5 93,-23.5 93,-0.5 0,-0.5\"/>\n<text text-anchor=\"middle\" x=\"46.5\" y=\"-8.3\" font-family=\"Times,serif\" font-size=\"14.00\">Iris&#45;versicolor</text>\n</g>\n<!-- 0_2_1&#45;&gt;0_2_1_1 -->\n<g id=\"edge2\" class=\"edge\">\n<title>0_2_1&#45;&gt;0_2_1_1</title>\n<path fill=\"none\" stroke=\"black\" d=\"M92.53,-75.23C84.16,-63.91 70.81,-45.87 60.64,-32.12\"/>\n<polygon fill=\"black\" stroke=\"black\" points=\"63.26,-29.77 54.5,-23.82 57.63,-33.94 63.26,-29.77\"/>\n<text text-anchor=\"middle\" x=\"97.5\" y=\"-45.8\" font-family=\"Times,serif\" font-size=\"14.00\">&lt;= 4.9</text>\n</g>\n<!-- 0_2_1_2 -->\n<g id=\"node6\" class=\"node\">\n<title>0_2_1_2</title>\n<polygon fill=\"forestgreen\" stroke=\"black\" points=\"111,-0.5 111,-23.5 198,-23.5 198,-0.5 111,-0.5\"/>\n<text text-anchor=\"middle\" x=\"154.5\" y=\"-8.3\" font-family=\"Times,serif\" font-size=\"14.00\">Iris&#45;virginica</text>\n</g>\n<!-- 0_2_1&#45;&gt;0_2_1_2 -->\n<g id=\"edge3\" class=\"edge\">\n<title>0_2_1&#45;&gt;0_2_1_2</title>\n<path fill=\"none\" stroke=\"black\" d=\"M108.47,-75.23C116.84,-63.91 130.19,-45.87 140.36,-32.12\"/>\n<polygon fill=\"black\" stroke=\"black\" points=\"143.37,-33.94 146.5,-23.82 137.74,-29.77 143.37,-33.94\"/>\n<text text-anchor=\"middle\" x=\"146.5\" y=\"-45.8\" font-family=\"Times,serif\" font-size=\"14.00\">&gt; 4.9</text>\n</g>\n</g>\n</svg>\n",
            "text/plain": [
              "<graphviz.graphs.Digraph at 0x7b303f763ee0>"
            ]
          },
          "metadata": {},
          "execution_count": 29
        }
      ],
      "source": [
        "g = clf.visualize_tree(tree_with_post_pruning)\n",
        "g.render('tree_with_post_pruning', format='png', view=True)\n",
        "clf.visualize_tree(tree_with_post_pruning)"
      ]
    }
  ],
  "metadata": {
    "colab": {
      "provenance": []
    },
    "kernelspec": {
      "display_name": "Python 3",
      "language": "python",
      "name": "python3"
    },
    "language_info": {
      "codemirror_mode": {
        "name": "ipython",
        "version": 3
      },
      "file_extension": ".py",
      "mimetype": "text/x-python",
      "name": "python",
      "nbconvert_exporter": "python",
      "pygments_lexer": "ipython3",
      "version": "3.8.10"
    }
  },
  "nbformat": 4,
  "nbformat_minor": 0
}